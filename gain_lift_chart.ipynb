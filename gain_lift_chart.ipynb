{
 "cells": [
  {
   "cell_type": "markdown",
   "metadata": {},
   "source": [
    "# Cummulative Gain and Lift Chart"
   ]
  },
  {
   "cell_type": "markdown",
   "metadata": {},
   "source": [
    "#### Introduction"
   ]
  },
  {
   "cell_type": "markdown",
   "metadata": {},
   "source": [
    "* Both of the charts are visualization to measure the model performance. \n",
    "* Both charts consist of a lift curve and a baseline:\n",
    "      The greater the area between lift curve and baseline >> the better the model\n",
    "      \n",
    "* Lift is a measure of the effectiveness of a predictive model calculated as the ratio between the results obtained with and without the predictive model.\n",
    "\n",
    "\n"
   ]
  },
  {
   "cell_type": "markdown",
   "metadata": {},
   "source": [
    "### Cummulative Gain Chart"
   ]
  },
  {
   "cell_type": "markdown",
   "metadata": {},
   "source": [
    "Cummulative gain shows the percentage of positive responses 'gained' by targeting a percentage of the total number of cases."
   ]
  },
  {
   "cell_type": "markdown",
   "metadata": {},
   "source": [
    "Below is the example of a cummulative gains chart: <br>\n",
    "The case is we want to contact some customer with a goal to get response from them <br>\n",
    "y-axis = % positive responses <br>\n",
    "x-aixs = % customers contacted. <br>\n",
    "<br>\n",
    "\n",
    "\n",
    "<img src = 'image/cumulative_gains.gif'>\n",
    "\n",
    "** Baseline** (the diagonal line)  = if we contact x% customers then we will receive x% of the total positive responses. (NO MODEL) <br>\n",
    "**Lift Curve** = by using the *predictions of the response model*, calculate the percentage of positive responses for the percent of customers contacted and map these points to create the lift curve. (USING OUR MODEL) <br> <br>\n",
    "So, by using the model, if we contact 10% of the total customers, we would have 30% positive responses."
   ]
  },
  {
   "cell_type": "markdown",
   "metadata": {},
   "source": [
    "> We can use cummulative gain chart to help choose a classification cutoff by choosing a percentage that corresponds to a desirable gain, and then mapping that percentage to the appropriate cutoff value."
   ]
  },
  {
   "cell_type": "markdown",
   "metadata": {},
   "source": [
    "### Lift Chart"
   ]
  },
  {
   "cell_type": "markdown",
   "metadata": {},
   "source": [
    "Lift chart is derived from cummulative gain chart. And it shows the actual lift.\n"
   ]
  },
  {
   "cell_type": "markdown",
   "metadata": {},
   "source": [
    "To plot the chart: Calculate the lift by compute ratio between the result predicted by our model and the result with no model. "
   ]
  },
  {
   "cell_type": "markdown",
   "metadata": {},
   "source": [
    "Example from above chart: The lift at 10% customers contacted is 3. Because when we use no model (baseline) we get only 10% of responders, but by using the given model we get 30% of responders which mean we get lift 30/10 = 3. This mean we will reach 3 times as my respondents as if we use no model."
   ]
  },
  {
   "cell_type": "markdown",
   "metadata": {},
   "source": [
    "<img src = 'image/lift_chart.gif'>"
   ]
  },
  {
   "cell_type": "markdown",
   "metadata": {},
   "source": [
    "Both chart represent the advantage of using our predictive model to choose which customer to contact. \n",
    "<br>\n",
    "The lift chart shows how much more likely we are to receive respondents than if we contact a random sample of customers."
   ]
  },
  {
   "cell_type": "markdown",
   "metadata": {},
   "source": [
    "<br> <br>\n",
    "Source:\n",
    "<br>\n",
    "http://www2.cs.uregina.ca/~dbd/cs831/notes/lift_chart/lift_chart.html\n",
    "<br>\n",
    "http://www.ibm.com/support/knowledgecenter/SSLVMB_20.0.0/com.ibm.spss.statistics.cs/mlp_bankloan_outputtype_02.htm"
   ]
  }
 ],
 "metadata": {
  "kernelspec": {
   "display_name": "Python 3",
   "language": "python",
   "name": "python3"
  },
  "language_info": {
   "codemirror_mode": {
    "name": "ipython",
    "version": 3
   },
   "file_extension": ".py",
   "mimetype": "text/x-python",
   "name": "python",
   "nbconvert_exporter": "python",
   "pygments_lexer": "ipython3",
   "version": "3.5.1"
  }
 },
 "nbformat": 4,
 "nbformat_minor": 0
}
